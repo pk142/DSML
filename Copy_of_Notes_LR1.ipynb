{
  "nbformat": 4,
  "nbformat_minor": 0,
  "metadata": {
    "colab": {
      "provenance": [],
      "collapsed_sections": [
        "nLVLt61VtwzS",
        "YUBxGZoANgwl",
        "4zWGf19aRGzk",
        "-tii34FzXPJy",
        "yXKHo74tqXku"
      ],
      "include_colab_link": true
    },
    "kernelspec": {
      "name": "python3",
      "display_name": "Python 3"
    },
    "language_info": {
      "name": "python"
    }
  },
  "cells": [
    {
      "cell_type": "markdown",
      "metadata": {
        "id": "view-in-github",
        "colab_type": "text"
      },
      "source": [
        "<a href=\"https://colab.research.google.com/github/pk142/DSML/blob/main/Copy_of_Notes_LR1.ipynb\" target=\"_parent\"><img src=\"https://colab.research.google.com/assets/colab-badge.svg\" alt=\"Open In Colab\"/></a>"
      ]
    },
    {
      "cell_type": "markdown",
      "source": [
        "## Content\n",
        "- Overview of Cars24 Data\n",
        "  - Loading the data\n",
        "  - Target Variable Encoding and Scaling revised\n",
        "- Data Notation\n",
        "  - Supervised learning revision\n",
        "  - Data Notation\n",
        "- Goal of ML: Generalization\n",
        "  - Training, testing split\n",
        "\n",
        "- Linear Regression Intuition\n",
        "  - Univariate\n",
        "  - Multivariate\n",
        "\n",
        "- Implementation using Sklearn\n",
        "\n",
        "\n",
        "- Evaluation metric\n",
        "  - MSE and MAE\n",
        "  - R2 Score\n",
        "\n"
      ],
      "metadata": {
        "id": "i2pqn7zRsn6q"
      }
    },
    {
      "cell_type": "markdown",
      "source": [
        "## Overview of Cars24 Data"
      ],
      "metadata": {
        "id": "nLVLt61VtwzS"
      }
    },
    {
      "cell_type": "markdown",
      "source": [
        "<img src='https://drive.google.com/uc?id=11GZXTrohYa8ax9NkbT8EyJued13a0xyS' width=800>\n",
        "\n"
      ],
      "metadata": {
        "id": "4BmZWXh3bpLE"
      }
    },
    {
      "cell_type": "markdown",
      "source": [
        "\n",
        "<img src='https://drive.google.com/uc?id=1lJiiRZlkPgb83pwgL7OVp1MsSIs4hNZj' width=800>\n",
        "\n"
      ],
      "metadata": {
        "id": "gQ05X6XXcSRJ"
      }
    },
    {
      "cell_type": "code",
      "execution_count": null,
      "metadata": {
        "id": "49spn9EhihUg"
      },
      "outputs": [],
      "source": [
        "import numpy as np\n",
        "import pandas as pd\n",
        "import matplotlib.pyplot as plt"
      ]
    },
    {
      "cell_type": "code",
      "execution_count": null,
      "metadata": {
        "colab": {
          "base_uri": "https://localhost:8080/"
        },
        "id": "SlNNFMGLYSNc",
        "outputId": "84095dc9-2f4f-41e8-8321-794ef5ea581d"
      },
      "outputs": [
        {
          "output_type": "stream",
          "name": "stdout",
          "text": [
            "Downloading...\n",
            "From: https://drive.google.com/uc?id=1bwRmKkPwmLKiqOgQ_LnKH0Vsc3mJKmVR\n",
            "To: /content/cars24-car-price-cleaned.csv\n",
            "\r  0% 0.00/1.69M [00:00<?, ?B/s]\r100% 1.69M/1.69M [00:00<00:00, 41.5MB/s]\n"
          ]
        }
      ],
      "source": [
        "!gdown 1bwRmKkPwmLKiqOgQ_LnKH0Vsc3mJKmVR"
      ]
    },
    {
      "cell_type": "code",
      "execution_count": null,
      "metadata": {
        "colab": {
          "base_uri": "https://localhost:8080/",
          "height": 285
        },
        "id": "WodYR0alYoW0",
        "outputId": "c52e88b8-2920-47fe-c19a-f29e30a550e9"
      },
      "outputs": [
        {
          "output_type": "execute_result",
          "data": {
            "text/plain": [
              "   selling_price    year  km_driven  mileage  engine  max_power   age  \\\n",
              "0           1.20  2012.0     120000    19.70   796.0      46.30  11.0   \n",
              "1           5.50  2016.0      20000    18.90  1197.0      82.00   7.0   \n",
              "2           2.15  2010.0      60000    17.00  1197.0      80.00  13.0   \n",
              "3           2.26  2012.0      37000    20.92   998.0      67.10  11.0   \n",
              "4           5.70  2015.0      30000    22.77  1498.0      98.59   8.0   \n",
              "\n",
              "      make                                      model  Individual  \\\n",
              "0   MARUTI                                   ALTO STD           1   \n",
              "1  HYUNDAI                             GRAND I10 ASTA           1   \n",
              "2  HYUNDAI                                   I20 ASTA           1   \n",
              "3   MARUTI                     ALTO K10 2010-2014 VXI           1   \n",
              "4     FORD  ECOSPORT 2015-2021 1.5 TDCI TITANIUM BSIV           0   \n",
              "\n",
              "   Trustmark Dealer  Diesel  Electric  LPG  Petrol  Manual  5  >5  \n",
              "0                 0       0         0    0       1       1  1   0  \n",
              "1                 0       0         0    0       1       1  1   0  \n",
              "2                 0       0         0    0       1       1  1   0  \n",
              "3                 0       0         0    0       1       1  1   0  \n",
              "4                 0       1         0    0       0       1  1   0  "
            ],
            "text/html": [
              "\n",
              "  <div id=\"df-36fe5de0-8972-428d-a796-ecc3384943ec\">\n",
              "    <div class=\"colab-df-container\">\n",
              "      <div>\n",
              "<style scoped>\n",
              "    .dataframe tbody tr th:only-of-type {\n",
              "        vertical-align: middle;\n",
              "    }\n",
              "\n",
              "    .dataframe tbody tr th {\n",
              "        vertical-align: top;\n",
              "    }\n",
              "\n",
              "    .dataframe thead th {\n",
              "        text-align: right;\n",
              "    }\n",
              "</style>\n",
              "<table border=\"1\" class=\"dataframe\">\n",
              "  <thead>\n",
              "    <tr style=\"text-align: right;\">\n",
              "      <th></th>\n",
              "      <th>selling_price</th>\n",
              "      <th>year</th>\n",
              "      <th>km_driven</th>\n",
              "      <th>mileage</th>\n",
              "      <th>engine</th>\n",
              "      <th>max_power</th>\n",
              "      <th>age</th>\n",
              "      <th>make</th>\n",
              "      <th>model</th>\n",
              "      <th>Individual</th>\n",
              "      <th>Trustmark Dealer</th>\n",
              "      <th>Diesel</th>\n",
              "      <th>Electric</th>\n",
              "      <th>LPG</th>\n",
              "      <th>Petrol</th>\n",
              "      <th>Manual</th>\n",
              "      <th>5</th>\n",
              "      <th>&gt;5</th>\n",
              "    </tr>\n",
              "  </thead>\n",
              "  <tbody>\n",
              "    <tr>\n",
              "      <th>0</th>\n",
              "      <td>1.20</td>\n",
              "      <td>2012.0</td>\n",
              "      <td>120000</td>\n",
              "      <td>19.70</td>\n",
              "      <td>796.0</td>\n",
              "      <td>46.30</td>\n",
              "      <td>11.0</td>\n",
              "      <td>MARUTI</td>\n",
              "      <td>ALTO STD</td>\n",
              "      <td>1</td>\n",
              "      <td>0</td>\n",
              "      <td>0</td>\n",
              "      <td>0</td>\n",
              "      <td>0</td>\n",
              "      <td>1</td>\n",
              "      <td>1</td>\n",
              "      <td>1</td>\n",
              "      <td>0</td>\n",
              "    </tr>\n",
              "    <tr>\n",
              "      <th>1</th>\n",
              "      <td>5.50</td>\n",
              "      <td>2016.0</td>\n",
              "      <td>20000</td>\n",
              "      <td>18.90</td>\n",
              "      <td>1197.0</td>\n",
              "      <td>82.00</td>\n",
              "      <td>7.0</td>\n",
              "      <td>HYUNDAI</td>\n",
              "      <td>GRAND I10 ASTA</td>\n",
              "      <td>1</td>\n",
              "      <td>0</td>\n",
              "      <td>0</td>\n",
              "      <td>0</td>\n",
              "      <td>0</td>\n",
              "      <td>1</td>\n",
              "      <td>1</td>\n",
              "      <td>1</td>\n",
              "      <td>0</td>\n",
              "    </tr>\n",
              "    <tr>\n",
              "      <th>2</th>\n",
              "      <td>2.15</td>\n",
              "      <td>2010.0</td>\n",
              "      <td>60000</td>\n",
              "      <td>17.00</td>\n",
              "      <td>1197.0</td>\n",
              "      <td>80.00</td>\n",
              "      <td>13.0</td>\n",
              "      <td>HYUNDAI</td>\n",
              "      <td>I20 ASTA</td>\n",
              "      <td>1</td>\n",
              "      <td>0</td>\n",
              "      <td>0</td>\n",
              "      <td>0</td>\n",
              "      <td>0</td>\n",
              "      <td>1</td>\n",
              "      <td>1</td>\n",
              "      <td>1</td>\n",
              "      <td>0</td>\n",
              "    </tr>\n",
              "    <tr>\n",
              "      <th>3</th>\n",
              "      <td>2.26</td>\n",
              "      <td>2012.0</td>\n",
              "      <td>37000</td>\n",
              "      <td>20.92</td>\n",
              "      <td>998.0</td>\n",
              "      <td>67.10</td>\n",
              "      <td>11.0</td>\n",
              "      <td>MARUTI</td>\n",
              "      <td>ALTO K10 2010-2014 VXI</td>\n",
              "      <td>1</td>\n",
              "      <td>0</td>\n",
              "      <td>0</td>\n",
              "      <td>0</td>\n",
              "      <td>0</td>\n",
              "      <td>1</td>\n",
              "      <td>1</td>\n",
              "      <td>1</td>\n",
              "      <td>0</td>\n",
              "    </tr>\n",
              "    <tr>\n",
              "      <th>4</th>\n",
              "      <td>5.70</td>\n",
              "      <td>2015.0</td>\n",
              "      <td>30000</td>\n",
              "      <td>22.77</td>\n",
              "      <td>1498.0</td>\n",
              "      <td>98.59</td>\n",
              "      <td>8.0</td>\n",
              "      <td>FORD</td>\n",
              "      <td>ECOSPORT 2015-2021 1.5 TDCI TITANIUM BSIV</td>\n",
              "      <td>0</td>\n",
              "      <td>0</td>\n",
              "      <td>1</td>\n",
              "      <td>0</td>\n",
              "      <td>0</td>\n",
              "      <td>0</td>\n",
              "      <td>1</td>\n",
              "      <td>1</td>\n",
              "      <td>0</td>\n",
              "    </tr>\n",
              "  </tbody>\n",
              "</table>\n",
              "</div>\n",
              "      <button class=\"colab-df-convert\" onclick=\"convertToInteractive('df-36fe5de0-8972-428d-a796-ecc3384943ec')\"\n",
              "              title=\"Convert this dataframe to an interactive table.\"\n",
              "              style=\"display:none;\">\n",
              "        \n",
              "  <svg xmlns=\"http://www.w3.org/2000/svg\" height=\"24px\"viewBox=\"0 0 24 24\"\n",
              "       width=\"24px\">\n",
              "    <path d=\"M0 0h24v24H0V0z\" fill=\"none\"/>\n",
              "    <path d=\"M18.56 5.44l.94 2.06.94-2.06 2.06-.94-2.06-.94-.94-2.06-.94 2.06-2.06.94zm-11 1L8.5 8.5l.94-2.06 2.06-.94-2.06-.94L8.5 2.5l-.94 2.06-2.06.94zm10 10l.94 2.06.94-2.06 2.06-.94-2.06-.94-.94-2.06-.94 2.06-2.06.94z\"/><path d=\"M17.41 7.96l-1.37-1.37c-.4-.4-.92-.59-1.43-.59-.52 0-1.04.2-1.43.59L10.3 9.45l-7.72 7.72c-.78.78-.78 2.05 0 2.83L4 21.41c.39.39.9.59 1.41.59.51 0 1.02-.2 1.41-.59l7.78-7.78 2.81-2.81c.8-.78.8-2.07 0-2.86zM5.41 20L4 18.59l7.72-7.72 1.47 1.35L5.41 20z\"/>\n",
              "  </svg>\n",
              "      </button>\n",
              "      \n",
              "  <style>\n",
              "    .colab-df-container {\n",
              "      display:flex;\n",
              "      flex-wrap:wrap;\n",
              "      gap: 12px;\n",
              "    }\n",
              "\n",
              "    .colab-df-convert {\n",
              "      background-color: #E8F0FE;\n",
              "      border: none;\n",
              "      border-radius: 50%;\n",
              "      cursor: pointer;\n",
              "      display: none;\n",
              "      fill: #1967D2;\n",
              "      height: 32px;\n",
              "      padding: 0 0 0 0;\n",
              "      width: 32px;\n",
              "    }\n",
              "\n",
              "    .colab-df-convert:hover {\n",
              "      background-color: #E2EBFA;\n",
              "      box-shadow: 0px 1px 2px rgba(60, 64, 67, 0.3), 0px 1px 3px 1px rgba(60, 64, 67, 0.15);\n",
              "      fill: #174EA6;\n",
              "    }\n",
              "\n",
              "    [theme=dark] .colab-df-convert {\n",
              "      background-color: #3B4455;\n",
              "      fill: #D2E3FC;\n",
              "    }\n",
              "\n",
              "    [theme=dark] .colab-df-convert:hover {\n",
              "      background-color: #434B5C;\n",
              "      box-shadow: 0px 1px 3px 1px rgba(0, 0, 0, 0.15);\n",
              "      filter: drop-shadow(0px 1px 2px rgba(0, 0, 0, 0.3));\n",
              "      fill: #FFFFFF;\n",
              "    }\n",
              "  </style>\n",
              "\n",
              "      <script>\n",
              "        const buttonEl =\n",
              "          document.querySelector('#df-36fe5de0-8972-428d-a796-ecc3384943ec button.colab-df-convert');\n",
              "        buttonEl.style.display =\n",
              "          google.colab.kernel.accessAllowed ? 'block' : 'none';\n",
              "\n",
              "        async function convertToInteractive(key) {\n",
              "          const element = document.querySelector('#df-36fe5de0-8972-428d-a796-ecc3384943ec');\n",
              "          const dataTable =\n",
              "            await google.colab.kernel.invokeFunction('convertToInteractive',\n",
              "                                                     [key], {});\n",
              "          if (!dataTable) return;\n",
              "\n",
              "          const docLinkHtml = 'Like what you see? Visit the ' +\n",
              "            '<a target=\"_blank\" href=https://colab.research.google.com/notebooks/data_table.ipynb>data table notebook</a>'\n",
              "            + ' to learn more about interactive tables.';\n",
              "          element.innerHTML = '';\n",
              "          dataTable['output_type'] = 'display_data';\n",
              "          await google.colab.output.renderOutput(dataTable, element);\n",
              "          const docLink = document.createElement('div');\n",
              "          docLink.innerHTML = docLinkHtml;\n",
              "          element.appendChild(docLink);\n",
              "        }\n",
              "      </script>\n",
              "    </div>\n",
              "  </div>\n",
              "  "
            ]
          },
          "metadata": {},
          "execution_count": 3
        }
      ],
      "source": [
        "df = pd.read_csv('cars24-car-price-cleaned.csv')\n",
        "df.head()"
      ]
    },
    {
      "cell_type": "markdown",
      "source": [
        "\n",
        "\n",
        "<img src='https://drive.google.com/uc?id=1eFMBxWbNmAivUBc6VXoi1aHQPtC3k_GD' width=800>\n",
        "\n"
      ],
      "metadata": {
        "id": "yvDuyhcbcbUy"
      }
    },
    {
      "cell_type": "markdown",
      "source": [
        "### Target variable encoding"
      ],
      "metadata": {
        "id": "9Aw95BA6NVi_"
      }
    },
    {
      "cell_type": "code",
      "source": [
        "df['model'].nunique(), df['make'].nunique()"
      ],
      "metadata": {
        "colab": {
          "base_uri": "https://localhost:8080/"
        },
        "id": "lY4iW2E1Q36J",
        "outputId": "b320924a-22e4-4d8f-fe88-6a34d675d8ce"
      },
      "execution_count": null,
      "outputs": [
        {
          "output_type": "execute_result",
          "data": {
            "text/plain": [
              "(3233, 41)"
            ]
          },
          "metadata": {},
          "execution_count": 4
        }
      ]
    },
    {
      "cell_type": "markdown",
      "source": [
        "\n",
        "\n",
        "<img src='https://drive.google.com/uc?id=1JhK5pssMoxwIP2MFmtFJCp9SquJs2AeK' width=800>\n"
      ],
      "metadata": {
        "id": "0vgEruGZQn-G"
      }
    },
    {
      "cell_type": "markdown",
      "source": [
        "\n",
        "\n",
        "\n",
        "<img src='https://drive.google.com/uc?id=1Di8s8QsWUZkEOFb3ceoTtBefJfmrSo3w' width=800>\n"
      ],
      "metadata": {
        "id": "_Pt0RDpzc5XX"
      }
    },
    {
      "cell_type": "markdown",
      "source": [
        "For our data,\n",
        "- we will be using **mean** to encode the columns."
      ],
      "metadata": {
        "id": "ul8W_IGeRiys"
      }
    },
    {
      "cell_type": "code",
      "source": [
        "df['make'] = df.groupby('make')['selling_price'].transform('mean')\n",
        "df['model'] = df.groupby('model')['selling_price'].transform('mean')\n",
        "df.head()"
      ],
      "metadata": {
        "colab": {
          "base_uri": "https://localhost:8080/",
          "height": 206
        },
        "id": "BQF4wqVsMB6g",
        "outputId": "69c716bf-2518-4b47-f558-ed391fc3d587"
      },
      "execution_count": null,
      "outputs": [
        {
          "output_type": "execute_result",
          "data": {
            "text/plain": [
              "   selling_price    year  km_driven  mileage  engine  max_power   age  \\\n",
              "0           1.20  2012.0     120000    19.70   796.0      46.30  11.0   \n",
              "1           5.50  2016.0      20000    18.90  1197.0      82.00   7.0   \n",
              "2           2.15  2010.0      60000    17.00  1197.0      80.00  13.0   \n",
              "3           2.26  2012.0      37000    20.92   998.0      67.10  11.0   \n",
              "4           5.70  2015.0      30000    22.77  1498.0      98.59   8.0   \n",
              "\n",
              "       make     model  Individual  Trustmark Dealer  Diesel  Electric  LPG  \\\n",
              "0  4.684721  1.180000           1                 0       0         0    0   \n",
              "1  5.458819  4.818750           1                 0       0         0    0   \n",
              "2  5.458819  3.394000           1                 0       0         0    0   \n",
              "3  4.684721  2.242676           1                 0       0         0    0   \n",
              "4  5.858258  6.777576           0                 0       1         0    0   \n",
              "\n",
              "   Petrol  Manual  5  >5  \n",
              "0       1       1  1   0  \n",
              "1       1       1  1   0  \n",
              "2       1       1  1   0  \n",
              "3       1       1  1   0  \n",
              "4       0       1  1   0  "
            ],
            "text/html": [
              "\n",
              "  <div id=\"df-bc51de6e-4b0f-4d60-8d1b-8a9260dca533\">\n",
              "    <div class=\"colab-df-container\">\n",
              "      <div>\n",
              "<style scoped>\n",
              "    .dataframe tbody tr th:only-of-type {\n",
              "        vertical-align: middle;\n",
              "    }\n",
              "\n",
              "    .dataframe tbody tr th {\n",
              "        vertical-align: top;\n",
              "    }\n",
              "\n",
              "    .dataframe thead th {\n",
              "        text-align: right;\n",
              "    }\n",
              "</style>\n",
              "<table border=\"1\" class=\"dataframe\">\n",
              "  <thead>\n",
              "    <tr style=\"text-align: right;\">\n",
              "      <th></th>\n",
              "      <th>selling_price</th>\n",
              "      <th>year</th>\n",
              "      <th>km_driven</th>\n",
              "      <th>mileage</th>\n",
              "      <th>engine</th>\n",
              "      <th>max_power</th>\n",
              "      <th>age</th>\n",
              "      <th>make</th>\n",
              "      <th>model</th>\n",
              "      <th>Individual</th>\n",
              "      <th>Trustmark Dealer</th>\n",
              "      <th>Diesel</th>\n",
              "      <th>Electric</th>\n",
              "      <th>LPG</th>\n",
              "      <th>Petrol</th>\n",
              "      <th>Manual</th>\n",
              "      <th>5</th>\n",
              "      <th>&gt;5</th>\n",
              "    </tr>\n",
              "  </thead>\n",
              "  <tbody>\n",
              "    <tr>\n",
              "      <th>0</th>\n",
              "      <td>1.20</td>\n",
              "      <td>2012.0</td>\n",
              "      <td>120000</td>\n",
              "      <td>19.70</td>\n",
              "      <td>796.0</td>\n",
              "      <td>46.30</td>\n",
              "      <td>11.0</td>\n",
              "      <td>4.684721</td>\n",
              "      <td>1.180000</td>\n",
              "      <td>1</td>\n",
              "      <td>0</td>\n",
              "      <td>0</td>\n",
              "      <td>0</td>\n",
              "      <td>0</td>\n",
              "      <td>1</td>\n",
              "      <td>1</td>\n",
              "      <td>1</td>\n",
              "      <td>0</td>\n",
              "    </tr>\n",
              "    <tr>\n",
              "      <th>1</th>\n",
              "      <td>5.50</td>\n",
              "      <td>2016.0</td>\n",
              "      <td>20000</td>\n",
              "      <td>18.90</td>\n",
              "      <td>1197.0</td>\n",
              "      <td>82.00</td>\n",
              "      <td>7.0</td>\n",
              "      <td>5.458819</td>\n",
              "      <td>4.818750</td>\n",
              "      <td>1</td>\n",
              "      <td>0</td>\n",
              "      <td>0</td>\n",
              "      <td>0</td>\n",
              "      <td>0</td>\n",
              "      <td>1</td>\n",
              "      <td>1</td>\n",
              "      <td>1</td>\n",
              "      <td>0</td>\n",
              "    </tr>\n",
              "    <tr>\n",
              "      <th>2</th>\n",
              "      <td>2.15</td>\n",
              "      <td>2010.0</td>\n",
              "      <td>60000</td>\n",
              "      <td>17.00</td>\n",
              "      <td>1197.0</td>\n",
              "      <td>80.00</td>\n",
              "      <td>13.0</td>\n",
              "      <td>5.458819</td>\n",
              "      <td>3.394000</td>\n",
              "      <td>1</td>\n",
              "      <td>0</td>\n",
              "      <td>0</td>\n",
              "      <td>0</td>\n",
              "      <td>0</td>\n",
              "      <td>1</td>\n",
              "      <td>1</td>\n",
              "      <td>1</td>\n",
              "      <td>0</td>\n",
              "    </tr>\n",
              "    <tr>\n",
              "      <th>3</th>\n",
              "      <td>2.26</td>\n",
              "      <td>2012.0</td>\n",
              "      <td>37000</td>\n",
              "      <td>20.92</td>\n",
              "      <td>998.0</td>\n",
              "      <td>67.10</td>\n",
              "      <td>11.0</td>\n",
              "      <td>4.684721</td>\n",
              "      <td>2.242676</td>\n",
              "      <td>1</td>\n",
              "      <td>0</td>\n",
              "      <td>0</td>\n",
              "      <td>0</td>\n",
              "      <td>0</td>\n",
              "      <td>1</td>\n",
              "      <td>1</td>\n",
              "      <td>1</td>\n",
              "      <td>0</td>\n",
              "    </tr>\n",
              "    <tr>\n",
              "      <th>4</th>\n",
              "      <td>5.70</td>\n",
              "      <td>2015.0</td>\n",
              "      <td>30000</td>\n",
              "      <td>22.77</td>\n",
              "      <td>1498.0</td>\n",
              "      <td>98.59</td>\n",
              "      <td>8.0</td>\n",
              "      <td>5.858258</td>\n",
              "      <td>6.777576</td>\n",
              "      <td>0</td>\n",
              "      <td>0</td>\n",
              "      <td>1</td>\n",
              "      <td>0</td>\n",
              "      <td>0</td>\n",
              "      <td>0</td>\n",
              "      <td>1</td>\n",
              "      <td>1</td>\n",
              "      <td>0</td>\n",
              "    </tr>\n",
              "  </tbody>\n",
              "</table>\n",
              "</div>\n",
              "      <button class=\"colab-df-convert\" onclick=\"convertToInteractive('df-bc51de6e-4b0f-4d60-8d1b-8a9260dca533')\"\n",
              "              title=\"Convert this dataframe to an interactive table.\"\n",
              "              style=\"display:none;\">\n",
              "        \n",
              "  <svg xmlns=\"http://www.w3.org/2000/svg\" height=\"24px\"viewBox=\"0 0 24 24\"\n",
              "       width=\"24px\">\n",
              "    <path d=\"M0 0h24v24H0V0z\" fill=\"none\"/>\n",
              "    <path d=\"M18.56 5.44l.94 2.06.94-2.06 2.06-.94-2.06-.94-.94-2.06-.94 2.06-2.06.94zm-11 1L8.5 8.5l.94-2.06 2.06-.94-2.06-.94L8.5 2.5l-.94 2.06-2.06.94zm10 10l.94 2.06.94-2.06 2.06-.94-2.06-.94-.94-2.06-.94 2.06-2.06.94z\"/><path d=\"M17.41 7.96l-1.37-1.37c-.4-.4-.92-.59-1.43-.59-.52 0-1.04.2-1.43.59L10.3 9.45l-7.72 7.72c-.78.78-.78 2.05 0 2.83L4 21.41c.39.39.9.59 1.41.59.51 0 1.02-.2 1.41-.59l7.78-7.78 2.81-2.81c.8-.78.8-2.07 0-2.86zM5.41 20L4 18.59l7.72-7.72 1.47 1.35L5.41 20z\"/>\n",
              "  </svg>\n",
              "      </button>\n",
              "      \n",
              "  <style>\n",
              "    .colab-df-container {\n",
              "      display:flex;\n",
              "      flex-wrap:wrap;\n",
              "      gap: 12px;\n",
              "    }\n",
              "\n",
              "    .colab-df-convert {\n",
              "      background-color: #E8F0FE;\n",
              "      border: none;\n",
              "      border-radius: 50%;\n",
              "      cursor: pointer;\n",
              "      display: none;\n",
              "      fill: #1967D2;\n",
              "      height: 32px;\n",
              "      padding: 0 0 0 0;\n",
              "      width: 32px;\n",
              "    }\n",
              "\n",
              "    .colab-df-convert:hover {\n",
              "      background-color: #E2EBFA;\n",
              "      box-shadow: 0px 1px 2px rgba(60, 64, 67, 0.3), 0px 1px 3px 1px rgba(60, 64, 67, 0.15);\n",
              "      fill: #174EA6;\n",
              "    }\n",
              "\n",
              "    [theme=dark] .colab-df-convert {\n",
              "      background-color: #3B4455;\n",
              "      fill: #D2E3FC;\n",
              "    }\n",
              "\n",
              "    [theme=dark] .colab-df-convert:hover {\n",
              "      background-color: #434B5C;\n",
              "      box-shadow: 0px 1px 3px 1px rgba(0, 0, 0, 0.15);\n",
              "      filter: drop-shadow(0px 1px 2px rgba(0, 0, 0, 0.3));\n",
              "      fill: #FFFFFF;\n",
              "    }\n",
              "  </style>\n",
              "\n",
              "      <script>\n",
              "        const buttonEl =\n",
              "          document.querySelector('#df-bc51de6e-4b0f-4d60-8d1b-8a9260dca533 button.colab-df-convert');\n",
              "        buttonEl.style.display =\n",
              "          google.colab.kernel.accessAllowed ? 'block' : 'none';\n",
              "\n",
              "        async function convertToInteractive(key) {\n",
              "          const element = document.querySelector('#df-bc51de6e-4b0f-4d60-8d1b-8a9260dca533');\n",
              "          const dataTable =\n",
              "            await google.colab.kernel.invokeFunction('convertToInteractive',\n",
              "                                                     [key], {});\n",
              "          if (!dataTable) return;\n",
              "\n",
              "          const docLinkHtml = 'Like what you see? Visit the ' +\n",
              "            '<a target=\"_blank\" href=https://colab.research.google.com/notebooks/data_table.ipynb>data table notebook</a>'\n",
              "            + ' to learn more about interactive tables.';\n",
              "          element.innerHTML = '';\n",
              "          dataTable['output_type'] = 'display_data';\n",
              "          await google.colab.output.renderOutput(dataTable, element);\n",
              "          const docLink = document.createElement('div');\n",
              "          docLink.innerHTML = docLinkHtml;\n",
              "          element.appendChild(docLink);\n",
              "        }\n",
              "      </script>\n",
              "    </div>\n",
              "  </div>\n",
              "  "
            ]
          },
          "metadata": {},
          "execution_count": 5
        }
      ]
    },
    {
      "cell_type": "markdown",
      "source": [
        "### Scaling the data -"
      ],
      "metadata": {
        "id": "Dh1HQr3ENRNt"
      }
    },
    {
      "cell_type": "markdown",
      "source": [
        "Notice one more thing:\n",
        "\n",
        "- `km_driven` is in the ranges of 10000s,\n",
        "- while `age` is in the range of 10s.\n"
      ],
      "metadata": {
        "id": "APSQLlrDdJht"
      }
    },
    {
      "cell_type": "markdown",
      "source": [
        "\n",
        "\n",
        "\n",
        "<img src='https://drive.google.com/uc?id=1816RrFmFMXAYHe4bBtXljxKq2pXTOa16' width=800>\n"
      ],
      "metadata": {
        "id": "m7o0iUGFc-2p"
      }
    },
    {
      "cell_type": "markdown",
      "source": [
        "\n",
        "\n",
        "\n",
        "\n",
        "<img src='https://drive.google.com/uc?id=1X_DZeiRvvjMiZfjX5Mx1A7PrviB-n9wR' width=800>\n"
      ],
      "metadata": {
        "id": "CAPZnAhbdWFG"
      }
    },
    {
      "cell_type": "markdown",
      "source": [
        "**Tip:** </br>\n",
        "Apart from MinMaxScaler, you can also try out various methods to see which works the best."
      ],
      "metadata": {
        "id": "31bkNtfQST_a"
      }
    },
    {
      "cell_type": "code",
      "source": [
        "from sklearn.preprocessing import MinMaxScaler\n",
        "\n",
        "scaler = MinMaxScaler()\n",
        "\n",
        "df = pd.DataFrame(scaler.fit_transform(df), columns=df.columns)\n",
        "df.head()"
      ],
      "metadata": {
        "colab": {
          "base_uri": "https://localhost:8080/",
          "height": 250
        },
        "id": "8ToyFbh6LwlL",
        "outputId": "a8675369-e866-4d8f-a9c5-afc83f9a871c"
      },
      "execution_count": null,
      "outputs": [
        {
          "output_type": "execute_result",
          "data": {
            "text/plain": [
              "   selling_price      year  km_driven   mileage    engine  max_power  \\\n",
              "0       0.043684  0.689655   0.031553  0.135345  0.117891   0.066506   \n",
              "1       0.252397  0.827586   0.005237  0.128448  0.177281   0.123994   \n",
              "2       0.089795  0.620690   0.015764  0.112069  0.177281   0.120773   \n",
              "3       0.095134  0.689655   0.009711  0.145862  0.147808   0.100000   \n",
              "4       0.262104  0.793103   0.007869  0.161810  0.221860   0.150709   \n",
              "\n",
              "        age      make     model  Individual  Trustmark Dealer  Diesel  \\\n",
              "0  0.310345  0.194048  0.041550         1.0               0.0     0.0   \n",
              "1  0.172414  0.232517  0.218382         1.0               0.0     0.0   \n",
              "2  0.379310  0.232517  0.149143         1.0               0.0     0.0   \n",
              "3  0.310345  0.194048  0.093193         1.0               0.0     0.0   \n",
              "4  0.206897  0.252367  0.313574         0.0               0.0     1.0   \n",
              "\n",
              "   Electric  LPG  Petrol  Manual    5   >5  \n",
              "0       0.0  0.0     1.0     1.0  1.0  0.0  \n",
              "1       0.0  0.0     1.0     1.0  1.0  0.0  \n",
              "2       0.0  0.0     1.0     1.0  1.0  0.0  \n",
              "3       0.0  0.0     1.0     1.0  1.0  0.0  \n",
              "4       0.0  0.0     0.0     1.0  1.0  0.0  "
            ],
            "text/html": [
              "\n",
              "  <div id=\"df-162e6330-8fdc-4dbe-ab82-8dcacd68be51\">\n",
              "    <div class=\"colab-df-container\">\n",
              "      <div>\n",
              "<style scoped>\n",
              "    .dataframe tbody tr th:only-of-type {\n",
              "        vertical-align: middle;\n",
              "    }\n",
              "\n",
              "    .dataframe tbody tr th {\n",
              "        vertical-align: top;\n",
              "    }\n",
              "\n",
              "    .dataframe thead th {\n",
              "        text-align: right;\n",
              "    }\n",
              "</style>\n",
              "<table border=\"1\" class=\"dataframe\">\n",
              "  <thead>\n",
              "    <tr style=\"text-align: right;\">\n",
              "      <th></th>\n",
              "      <th>selling_price</th>\n",
              "      <th>year</th>\n",
              "      <th>km_driven</th>\n",
              "      <th>mileage</th>\n",
              "      <th>engine</th>\n",
              "      <th>max_power</th>\n",
              "      <th>age</th>\n",
              "      <th>make</th>\n",
              "      <th>model</th>\n",
              "      <th>Individual</th>\n",
              "      <th>Trustmark Dealer</th>\n",
              "      <th>Diesel</th>\n",
              "      <th>Electric</th>\n",
              "      <th>LPG</th>\n",
              "      <th>Petrol</th>\n",
              "      <th>Manual</th>\n",
              "      <th>5</th>\n",
              "      <th>&gt;5</th>\n",
              "    </tr>\n",
              "  </thead>\n",
              "  <tbody>\n",
              "    <tr>\n",
              "      <th>0</th>\n",
              "      <td>0.043684</td>\n",
              "      <td>0.689655</td>\n",
              "      <td>0.031553</td>\n",
              "      <td>0.135345</td>\n",
              "      <td>0.117891</td>\n",
              "      <td>0.066506</td>\n",
              "      <td>0.310345</td>\n",
              "      <td>0.194048</td>\n",
              "      <td>0.041550</td>\n",
              "      <td>1.0</td>\n",
              "      <td>0.0</td>\n",
              "      <td>0.0</td>\n",
              "      <td>0.0</td>\n",
              "      <td>0.0</td>\n",
              "      <td>1.0</td>\n",
              "      <td>1.0</td>\n",
              "      <td>1.0</td>\n",
              "      <td>0.0</td>\n",
              "    </tr>\n",
              "    <tr>\n",
              "      <th>1</th>\n",
              "      <td>0.252397</td>\n",
              "      <td>0.827586</td>\n",
              "      <td>0.005237</td>\n",
              "      <td>0.128448</td>\n",
              "      <td>0.177281</td>\n",
              "      <td>0.123994</td>\n",
              "      <td>0.172414</td>\n",
              "      <td>0.232517</td>\n",
              "      <td>0.218382</td>\n",
              "      <td>1.0</td>\n",
              "      <td>0.0</td>\n",
              "      <td>0.0</td>\n",
              "      <td>0.0</td>\n",
              "      <td>0.0</td>\n",
              "      <td>1.0</td>\n",
              "      <td>1.0</td>\n",
              "      <td>1.0</td>\n",
              "      <td>0.0</td>\n",
              "    </tr>\n",
              "    <tr>\n",
              "      <th>2</th>\n",
              "      <td>0.089795</td>\n",
              "      <td>0.620690</td>\n",
              "      <td>0.015764</td>\n",
              "      <td>0.112069</td>\n",
              "      <td>0.177281</td>\n",
              "      <td>0.120773</td>\n",
              "      <td>0.379310</td>\n",
              "      <td>0.232517</td>\n",
              "      <td>0.149143</td>\n",
              "      <td>1.0</td>\n",
              "      <td>0.0</td>\n",
              "      <td>0.0</td>\n",
              "      <td>0.0</td>\n",
              "      <td>0.0</td>\n",
              "      <td>1.0</td>\n",
              "      <td>1.0</td>\n",
              "      <td>1.0</td>\n",
              "      <td>0.0</td>\n",
              "    </tr>\n",
              "    <tr>\n",
              "      <th>3</th>\n",
              "      <td>0.095134</td>\n",
              "      <td>0.689655</td>\n",
              "      <td>0.009711</td>\n",
              "      <td>0.145862</td>\n",
              "      <td>0.147808</td>\n",
              "      <td>0.100000</td>\n",
              "      <td>0.310345</td>\n",
              "      <td>0.194048</td>\n",
              "      <td>0.093193</td>\n",
              "      <td>1.0</td>\n",
              "      <td>0.0</td>\n",
              "      <td>0.0</td>\n",
              "      <td>0.0</td>\n",
              "      <td>0.0</td>\n",
              "      <td>1.0</td>\n",
              "      <td>1.0</td>\n",
              "      <td>1.0</td>\n",
              "      <td>0.0</td>\n",
              "    </tr>\n",
              "    <tr>\n",
              "      <th>4</th>\n",
              "      <td>0.262104</td>\n",
              "      <td>0.793103</td>\n",
              "      <td>0.007869</td>\n",
              "      <td>0.161810</td>\n",
              "      <td>0.221860</td>\n",
              "      <td>0.150709</td>\n",
              "      <td>0.206897</td>\n",
              "      <td>0.252367</td>\n",
              "      <td>0.313574</td>\n",
              "      <td>0.0</td>\n",
              "      <td>0.0</td>\n",
              "      <td>1.0</td>\n",
              "      <td>0.0</td>\n",
              "      <td>0.0</td>\n",
              "      <td>0.0</td>\n",
              "      <td>1.0</td>\n",
              "      <td>1.0</td>\n",
              "      <td>0.0</td>\n",
              "    </tr>\n",
              "  </tbody>\n",
              "</table>\n",
              "</div>\n",
              "      <button class=\"colab-df-convert\" onclick=\"convertToInteractive('df-162e6330-8fdc-4dbe-ab82-8dcacd68be51')\"\n",
              "              title=\"Convert this dataframe to an interactive table.\"\n",
              "              style=\"display:none;\">\n",
              "        \n",
              "  <svg xmlns=\"http://www.w3.org/2000/svg\" height=\"24px\"viewBox=\"0 0 24 24\"\n",
              "       width=\"24px\">\n",
              "    <path d=\"M0 0h24v24H0V0z\" fill=\"none\"/>\n",
              "    <path d=\"M18.56 5.44l.94 2.06.94-2.06 2.06-.94-2.06-.94-.94-2.06-.94 2.06-2.06.94zm-11 1L8.5 8.5l.94-2.06 2.06-.94-2.06-.94L8.5 2.5l-.94 2.06-2.06.94zm10 10l.94 2.06.94-2.06 2.06-.94-2.06-.94-.94-2.06-.94 2.06-2.06.94z\"/><path d=\"M17.41 7.96l-1.37-1.37c-.4-.4-.92-.59-1.43-.59-.52 0-1.04.2-1.43.59L10.3 9.45l-7.72 7.72c-.78.78-.78 2.05 0 2.83L4 21.41c.39.39.9.59 1.41.59.51 0 1.02-.2 1.41-.59l7.78-7.78 2.81-2.81c.8-.78.8-2.07 0-2.86zM5.41 20L4 18.59l7.72-7.72 1.47 1.35L5.41 20z\"/>\n",
              "  </svg>\n",
              "      </button>\n",
              "      \n",
              "  <style>\n",
              "    .colab-df-container {\n",
              "      display:flex;\n",
              "      flex-wrap:wrap;\n",
              "      gap: 12px;\n",
              "    }\n",
              "\n",
              "    .colab-df-convert {\n",
              "      background-color: #E8F0FE;\n",
              "      border: none;\n",
              "      border-radius: 50%;\n",
              "      cursor: pointer;\n",
              "      display: none;\n",
              "      fill: #1967D2;\n",
              "      height: 32px;\n",
              "      padding: 0 0 0 0;\n",
              "      width: 32px;\n",
              "    }\n",
              "\n",
              "    .colab-df-convert:hover {\n",
              "      background-color: #E2EBFA;\n",
              "      box-shadow: 0px 1px 2px rgba(60, 64, 67, 0.3), 0px 1px 3px 1px rgba(60, 64, 67, 0.15);\n",
              "      fill: #174EA6;\n",
              "    }\n",
              "\n",
              "    [theme=dark] .colab-df-convert {\n",
              "      background-color: #3B4455;\n",
              "      fill: #D2E3FC;\n",
              "    }\n",
              "\n",
              "    [theme=dark] .colab-df-convert:hover {\n",
              "      background-color: #434B5C;\n",
              "      box-shadow: 0px 1px 3px 1px rgba(0, 0, 0, 0.15);\n",
              "      filter: drop-shadow(0px 1px 2px rgba(0, 0, 0, 0.3));\n",
              "      fill: #FFFFFF;\n",
              "    }\n",
              "  </style>\n",
              "\n",
              "      <script>\n",
              "        const buttonEl =\n",
              "          document.querySelector('#df-162e6330-8fdc-4dbe-ab82-8dcacd68be51 button.colab-df-convert');\n",
              "        buttonEl.style.display =\n",
              "          google.colab.kernel.accessAllowed ? 'block' : 'none';\n",
              "\n",
              "        async function convertToInteractive(key) {\n",
              "          const element = document.querySelector('#df-162e6330-8fdc-4dbe-ab82-8dcacd68be51');\n",
              "          const dataTable =\n",
              "            await google.colab.kernel.invokeFunction('convertToInteractive',\n",
              "                                                     [key], {});\n",
              "          if (!dataTable) return;\n",
              "\n",
              "          const docLinkHtml = 'Like what you see? Visit the ' +\n",
              "            '<a target=\"_blank\" href=https://colab.research.google.com/notebooks/data_table.ipynb>data table notebook</a>'\n",
              "            + ' to learn more about interactive tables.';\n",
              "          element.innerHTML = '';\n",
              "          dataTable['output_type'] = 'display_data';\n",
              "          await google.colab.output.renderOutput(dataTable, element);\n",
              "          const docLink = document.createElement('div');\n",
              "          docLink.innerHTML = docLinkHtml;\n",
              "          element.appendChild(docLink);\n",
              "        }\n",
              "      </script>\n",
              "    </div>\n",
              "  </div>\n",
              "  "
            ]
          },
          "metadata": {},
          "execution_count": 6
        }
      ]
    },
    {
      "cell_type": "markdown",
      "source": [
        "## Data Notation"
      ],
      "metadata": {
        "id": "YUBxGZoANgwl"
      }
    },
    {
      "cell_type": "markdown",
      "source": [
        "Let's look at few notations we will be following throughout machine learning."
      ],
      "metadata": {
        "id": "2rfpaSRDlY-n"
      }
    },
    {
      "cell_type": "markdown",
      "source": [
        "\n",
        "\n",
        "\n",
        "\n",
        "<img src='https://drive.google.com/uc?id=1KkkH1887zYJDd_La8GsQCfFgFXfOqp3E' width=800>\n"
      ],
      "metadata": {
        "id": "wyIEdCqalfW0"
      }
    },
    {
      "cell_type": "markdown",
      "source": [
        "## Goal of ML: Generalization"
      ],
      "metadata": {
        "id": "4zWGf19aRGzk"
      }
    },
    {
      "cell_type": "markdown",
      "source": [
        "<img src='https://drive.google.com/uc?id=176m5_ZP32kzwNNtWE5Ndl-7ykxt57eSC' width=800>\n"
      ],
      "metadata": {
        "id": "w-pEWLvvgPPk"
      }
    },
    {
      "cell_type": "markdown",
      "source": [
        "<img src='https://drive.google.com/uc?id=1fSCRGI-uvl2D5UaFyWdRt0fLaq7EUby9' width=800>"
      ],
      "metadata": {
        "id": "eajAMSH5gXvq"
      }
    },
    {
      "cell_type": "markdown",
      "source": [
        "\n",
        "\n",
        "\n",
        "\n",
        "<img src='https://drive.google.com/uc?id=1J7SlbzRXDHH4O7zQ1FhNZhdWv36osntL' width=800>"
      ],
      "metadata": {
        "id": "67fFp_dygeGU"
      }
    },
    {
      "cell_type": "markdown",
      "source": [
        "\n",
        "<img src='https://drive.google.com/uc?id=1xcQQHhP8BborJTjdYcKYZdH3sDLXyHPF' width=800>"
      ],
      "metadata": {
        "id": "P2nm6G14gm_J"
      }
    },
    {
      "cell_type": "markdown",
      "source": [
        "Now let's see how we can split our data.\n",
        "\n",
        "We will be using sklearn's `test_train_split` function for this."
      ],
      "metadata": {
        "id": "n4Iq3zopV8Og"
      }
    },
    {
      "cell_type": "code",
      "source": [
        "from sklearn.model_selection import train_test_split"
      ],
      "metadata": {
        "id": "G5bphu6XPTdC"
      },
      "execution_count": null,
      "outputs": []
    },
    {
      "cell_type": "markdown",
      "source": [
        "From our data:\n",
        "- The output data, `y` is the column `selling_price`\n",
        "- Remaining columns are the input data, `X`"
      ],
      "metadata": {
        "id": "15ZChlfWWQm8"
      }
    },
    {
      "cell_type": "code",
      "source": [
        "y = df['selling_price']\n",
        "X = df.drop('selling_price', axis=1)\n",
        "y.shape, X.shape"
      ],
      "metadata": {
        "colab": {
          "base_uri": "https://localhost:8080/"
        },
        "id": "sPJYSusSWPkA",
        "outputId": "3a20ba00-2abd-4e26-c013-e518248cbab2"
      },
      "execution_count": null,
      "outputs": [
        {
          "output_type": "execute_result",
          "data": {
            "text/plain": [
              "((19820,), (19820, 17))"
            ]
          },
          "metadata": {},
          "execution_count": 8
        }
      ]
    },
    {
      "cell_type": "markdown",
      "source": [
        "So we have to,\n",
        "- predict 1 output feature\n",
        "- using 17 input features.\n"
      ],
      "metadata": {
        "id": "wR_8cukzWoup"
      }
    },
    {
      "cell_type": "markdown",
      "source": [
        "Now let's split the data.\n",
        "\n",
        "We will divide it into 70:30 ratio:\n",
        "- 70% for training,\n",
        "- and 30% for testing."
      ],
      "metadata": {
        "id": "pug7GMKsWswe"
      }
    },
    {
      "cell_type": "code",
      "source": [
        "X_train, X_test, y_train, y_test = train_test_split(X, y, test_size=0.3, random_state=1)"
      ],
      "metadata": {
        "id": "ij_jFZLGWk3d"
      },
      "execution_count": null,
      "outputs": []
    },
    {
      "cell_type": "code",
      "source": [
        "X_train.shape, y_train.shape"
      ],
      "metadata": {
        "colab": {
          "base_uri": "https://localhost:8080/"
        },
        "id": "PZP9B3c9W52p",
        "outputId": "444b1224-29d0-4264-d1d8-0de1e4510f3f"
      },
      "execution_count": null,
      "outputs": [
        {
          "output_type": "execute_result",
          "data": {
            "text/plain": [
              "((13874, 17), (13874,))"
            ]
          },
          "metadata": {},
          "execution_count": 10
        }
      ]
    },
    {
      "cell_type": "code",
      "source": [
        "X_test.shape, y_test.shape"
      ],
      "metadata": {
        "colab": {
          "base_uri": "https://localhost:8080/"
        },
        "id": "UXoOALalW7Gm",
        "outputId": "7870d30b-0f4e-44e0-fa06-39e45c40a5cd"
      },
      "execution_count": null,
      "outputs": [
        {
          "output_type": "execute_result",
          "data": {
            "text/plain": [
              "((5946, 17), (5946,))"
            ]
          },
          "metadata": {},
          "execution_count": 11
        }
      ]
    },
    {
      "cell_type": "markdown",
      "source": [
        "We will use\n",
        "- `X_train` and `y_train` to train our model,\n",
        "- and `X_test` and `y_test` to evaluate the model's performance."
      ],
      "metadata": {
        "id": "2E4wyEQNXE6S"
      }
    },
    {
      "cell_type": "markdown",
      "source": [
        "## Linear Regression Intuition"
      ],
      "metadata": {
        "id": "-tii34FzXPJy"
      }
    },
    {
      "cell_type": "markdown",
      "source": [
        "### Univariate"
      ],
      "metadata": {
        "id": "FriKvAR5gso7"
      }
    },
    {
      "cell_type": "markdown",
      "source": [
        "\n",
        "<img src='https://drive.google.com/uc?id=1i0_y1y4htkfSFPxin-Pv7s5zDPQkohgI' width=800>"
      ],
      "metadata": {
        "id": "BAzeyyrUg5Mb"
      }
    },
    {
      "cell_type": "markdown",
      "source": [
        "\n",
        "<img src='https://drive.google.com/uc?id=1h5TQTygmLkn1U4HT0UDJ2xCiTa1R6X4Z' width=800>"
      ],
      "metadata": {
        "id": "RMGdCUivg9Vk"
      }
    },
    {
      "cell_type": "markdown",
      "source": [
        "\n",
        "<img src='https://drive.google.com/uc?id=1sZmDwv58o9TZ-4APuOSowEYESqj2hpbk' width=800>\n"
      ],
      "metadata": {
        "id": "ByaH5znYkQ00"
      }
    },
    {
      "cell_type": "markdown",
      "source": [
        "\n",
        "<img src='https://drive.google.com/uc?id=1oXW05pUUG29M67EhpROay4IatlWtMjp_' width=800>\n"
      ],
      "metadata": {
        "id": "CLvoBkDVki6J"
      }
    },
    {
      "cell_type": "markdown",
      "source": [
        "### Multivariate"
      ],
      "metadata": {
        "id": "SGin3O0kg0GB"
      }
    },
    {
      "cell_type": "markdown",
      "source": [
        "\n",
        "\n",
        "<img src='https://drive.google.com/uc?id=1_qT0OawmozWToy3GzjYlOcNxGdd75eVU' width=800>"
      ],
      "metadata": {
        "id": "fZNY8KrThDsz"
      }
    },
    {
      "cell_type": "markdown",
      "source": [
        "\n",
        "\n",
        "<img src='https://drive.google.com/uc?id=1oOgS0IKvYl9lF-cXdby7hsoBxh16eHji' width=800>"
      ],
      "metadata": {
        "id": "Dj5L1OEThISB"
      }
    },
    {
      "cell_type": "markdown",
      "source": [
        "\n",
        "<img src='https://drive.google.com/uc?id=1rnU5hehIy0aBo9TXgbsCJNJ9245Jqjpj' width=800>\n"
      ],
      "metadata": {
        "id": "oSAE8ahElHFx"
      }
    },
    {
      "cell_type": "markdown",
      "source": [
        "<img src='https://drive.google.com/uc?id=1gHUnuY6AMb2MdVqDCqZme9nMQdMQlOAM' width=800>\n"
      ],
      "metadata": {
        "id": "6ECj6FWIlLxY"
      }
    },
    {
      "cell_type": "markdown",
      "source": [
        "## Lin Reg using sklearn\n",
        "\n",
        "\n",
        "\n",
        "\n"
      ],
      "metadata": {
        "id": "yXKHo74tqXku"
      }
    },
    {
      "cell_type": "markdown",
      "source": [
        "### Univariate"
      ],
      "metadata": {
        "id": "NGCqvq9pOtk9"
      }
    },
    {
      "cell_type": "markdown",
      "source": [
        "Let's first take a single variable and train our model."
      ],
      "metadata": {
        "id": "_qkMpjo6O0MS"
      }
    },
    {
      "cell_type": "code",
      "source": [
        "X1=X[['model']]\n",
        "X1_train = X_train[['model']]\n",
        "X1_test = X_test[['model']]"
      ],
      "metadata": {
        "id": "u3JOzFWdO3uj"
      },
      "execution_count": null,
      "outputs": []
    },
    {
      "cell_type": "code",
      "source": [
        "from sklearn.linear_model import LinearRegression\n",
        "model = LinearRegression()\n",
        "model.fit(X1_train, y_train)"
      ],
      "metadata": {
        "colab": {
          "base_uri": "https://localhost:8080/",
          "height": 74
        },
        "outputId": "d727ccc0-9d5f-4611-93ec-12f0dffee53b",
        "id": "gsi2QKMuOt4r"
      },
      "execution_count": null,
      "outputs": [
        {
          "output_type": "execute_result",
          "data": {
            "text/plain": [
              "LinearRegression()"
            ],
            "text/html": [
              "<style>#sk-container-id-1 {color: black;background-color: white;}#sk-container-id-1 pre{padding: 0;}#sk-container-id-1 div.sk-toggleable {background-color: white;}#sk-container-id-1 label.sk-toggleable__label {cursor: pointer;display: block;width: 100%;margin-bottom: 0;padding: 0.3em;box-sizing: border-box;text-align: center;}#sk-container-id-1 label.sk-toggleable__label-arrow:before {content: \"▸\";float: left;margin-right: 0.25em;color: #696969;}#sk-container-id-1 label.sk-toggleable__label-arrow:hover:before {color: black;}#sk-container-id-1 div.sk-estimator:hover label.sk-toggleable__label-arrow:before {color: black;}#sk-container-id-1 div.sk-toggleable__content {max-height: 0;max-width: 0;overflow: hidden;text-align: left;background-color: #f0f8ff;}#sk-container-id-1 div.sk-toggleable__content pre {margin: 0.2em;color: black;border-radius: 0.25em;background-color: #f0f8ff;}#sk-container-id-1 input.sk-toggleable__control:checked~div.sk-toggleable__content {max-height: 200px;max-width: 100%;overflow: auto;}#sk-container-id-1 input.sk-toggleable__control:checked~label.sk-toggleable__label-arrow:before {content: \"▾\";}#sk-container-id-1 div.sk-estimator input.sk-toggleable__control:checked~label.sk-toggleable__label {background-color: #d4ebff;}#sk-container-id-1 div.sk-label input.sk-toggleable__control:checked~label.sk-toggleable__label {background-color: #d4ebff;}#sk-container-id-1 input.sk-hidden--visually {border: 0;clip: rect(1px 1px 1px 1px);clip: rect(1px, 1px, 1px, 1px);height: 1px;margin: -1px;overflow: hidden;padding: 0;position: absolute;width: 1px;}#sk-container-id-1 div.sk-estimator {font-family: monospace;background-color: #f0f8ff;border: 1px dotted black;border-radius: 0.25em;box-sizing: border-box;margin-bottom: 0.5em;}#sk-container-id-1 div.sk-estimator:hover {background-color: #d4ebff;}#sk-container-id-1 div.sk-parallel-item::after {content: \"\";width: 100%;border-bottom: 1px solid gray;flex-grow: 1;}#sk-container-id-1 div.sk-label:hover label.sk-toggleable__label {background-color: #d4ebff;}#sk-container-id-1 div.sk-serial::before {content: \"\";position: absolute;border-left: 1px solid gray;box-sizing: border-box;top: 0;bottom: 0;left: 50%;z-index: 0;}#sk-container-id-1 div.sk-serial {display: flex;flex-direction: column;align-items: center;background-color: white;padding-right: 0.2em;padding-left: 0.2em;position: relative;}#sk-container-id-1 div.sk-item {position: relative;z-index: 1;}#sk-container-id-1 div.sk-parallel {display: flex;align-items: stretch;justify-content: center;background-color: white;position: relative;}#sk-container-id-1 div.sk-item::before, #sk-container-id-1 div.sk-parallel-item::before {content: \"\";position: absolute;border-left: 1px solid gray;box-sizing: border-box;top: 0;bottom: 0;left: 50%;z-index: -1;}#sk-container-id-1 div.sk-parallel-item {display: flex;flex-direction: column;z-index: 1;position: relative;background-color: white;}#sk-container-id-1 div.sk-parallel-item:first-child::after {align-self: flex-end;width: 50%;}#sk-container-id-1 div.sk-parallel-item:last-child::after {align-self: flex-start;width: 50%;}#sk-container-id-1 div.sk-parallel-item:only-child::after {width: 0;}#sk-container-id-1 div.sk-dashed-wrapped {border: 1px dashed gray;margin: 0 0.4em 0.5em 0.4em;box-sizing: border-box;padding-bottom: 0.4em;background-color: white;}#sk-container-id-1 div.sk-label label {font-family: monospace;font-weight: bold;display: inline-block;line-height: 1.2em;}#sk-container-id-1 div.sk-label-container {text-align: center;}#sk-container-id-1 div.sk-container {/* jupyter's `normalize.less` sets `[hidden] { display: none; }` but bootstrap.min.css set `[hidden] { display: none !important; }` so we also need the `!important` here to be able to override the default hidden behavior on the sphinx rendered scikit-learn.org. See: https://github.com/scikit-learn/scikit-learn/issues/21755 */display: inline-block !important;position: relative;}#sk-container-id-1 div.sk-text-repr-fallback {display: none;}</style><div id=\"sk-container-id-1\" class=\"sk-top-container\"><div class=\"sk-text-repr-fallback\"><pre>LinearRegression()</pre><b>In a Jupyter environment, please rerun this cell to show the HTML representation or trust the notebook. <br />On GitHub, the HTML representation is unable to render, please try loading this page with nbviewer.org.</b></div><div class=\"sk-container\" hidden><div class=\"sk-item\"><div class=\"sk-estimator sk-toggleable\"><input class=\"sk-toggleable__control sk-hidden--visually\" id=\"sk-estimator-id-1\" type=\"checkbox\" checked><label for=\"sk-estimator-id-1\" class=\"sk-toggleable__label sk-toggleable__label-arrow\">LinearRegression</label><div class=\"sk-toggleable__content\"><pre>LinearRegression()</pre></div></div></div></div></div>"
            ]
          },
          "metadata": {},
          "execution_count": 13
        }
      ]
    },
    {
      "cell_type": "code",
      "source": [
        "model.coef_"
      ],
      "metadata": {
        "colab": {
          "base_uri": "https://localhost:8080/"
        },
        "outputId": "6822a67e-2a4c-4da5-f412-020d4e147a28",
        "id": "ahDzFDBcOt4s"
      },
      "execution_count": null,
      "outputs": [
        {
          "output_type": "execute_result",
          "data": {
            "text/plain": [
              "array([0.9967642])"
            ]
          },
          "metadata": {},
          "execution_count": 14
        }
      ]
    },
    {
      "cell_type": "code",
      "source": [
        "model.intercept_"
      ],
      "metadata": {
        "colab": {
          "base_uri": "https://localhost:8080/"
        },
        "outputId": "8ced8d37-7bea-40f0-8d5e-bf9941370619",
        "id": "6g361zlmOt4s"
      },
      "execution_count": null,
      "outputs": [
        {
          "output_type": "execute_result",
          "data": {
            "text/plain": [
              "0.0015237505846132926"
            ]
          },
          "metadata": {},
          "execution_count": 15
        }
      ]
    },
    {
      "cell_type": "code",
      "source": [
        "y_hat = model.predict(X1)"
      ],
      "metadata": {
        "id": "jQRwQb0kQi_R"
      },
      "execution_count": null,
      "outputs": []
    },
    {
      "cell_type": "code",
      "source": [
        "fig = plt.figure()\n",
        "plt.scatter(X1,y,label='data')\n",
        "plt.scatter(X1,y_hat,color='orange',label='prediction')\n",
        "plt.legend()\n",
        "plt.show()"
      ],
      "metadata": {
        "colab": {
          "base_uri": "https://localhost:8080/",
          "height": 430
        },
        "outputId": "2fb9b5ab-4643-4789-f2ec-4bddf8fc9c69",
        "id": "aI4wpSMMOt4s"
      },
      "execution_count": null,
      "outputs": [
        {
          "data": {
            "image/png": "[encoded data removed]",
            "text/plain": [
              "<Figure size 640x480 with 1 Axes>"
            ]
          },
          "metadata": {},
          "output_type": "display_data"
        }
      ]
    },
    {
      "cell_type": "markdown",
      "source": [
        "Notice,\n",
        "- how the predicted values form a line similar to a regression line."
      ],
      "metadata": {
        "id": "26ayfOuIQsh8"
      }
    },
    {
      "cell_type": "markdown",
      "source": [
        "### Multivariate"
      ],
      "metadata": {
        "id": "OinmKuV8OePl"
      }
    },
    {
      "cell_type": "markdown",
      "source": [
        "Let's now generalize our model for the whole data."
      ],
      "metadata": {
        "id": "WV3WSaAlQyfN"
      }
    },
    {
      "cell_type": "code",
      "source": [
        "print(X.shape, y.shape)"
      ],
      "metadata": {
        "colab": {
          "base_uri": "https://localhost:8080/"
        },
        "id": "rqEQ9pt0ZuBK",
        "outputId": "cd2b6a6f-ce0a-4508-cecf-496adfecde3a"
      },
      "execution_count": null,
      "outputs": [
        {
          "metadata": {
            "tags": null
          },
          "name": "stdout",
          "output_type": "stream",
          "text": [
            "(19820, 17) (19820,)\n"
          ]
        }
      ]
    },
    {
      "cell_type": "code",
      "source": [
        "from sklearn.linear_model import LinearRegression\n",
        "model = LinearRegression()\n",
        "model.fit(X_train, y_train)"
      ],
      "metadata": {
        "colab": {
          "base_uri": "https://localhost:8080/",
          "height": 74
        },
        "id": "qPLoxGgMqw3M",
        "outputId": "72c7e2b0-b33a-4a49-a476-dec5ca8c927b"
      },
      "execution_count": null,
      "outputs": [
        {
          "data": {
            "text/html": [
              "<style>#sk-container-id-2 {color: black;background-color: white;}#sk-container-id-2 pre{padding: 0;}#sk-container-id-2 div.sk-toggleable {background-color: white;}#sk-container-id-2 label.sk-toggleable__label {cursor: pointer;display: block;width: 100%;margin-bottom: 0;padding: 0.3em;box-sizing: border-box;text-align: center;}#sk-container-id-2 label.sk-toggleable__label-arrow:before {content: \"▸\";float: left;margin-right: 0.25em;color: #696969;}#sk-container-id-2 label.sk-toggleable__label-arrow:hover:before {color: black;}#sk-container-id-2 div.sk-estimator:hover label.sk-toggleable__label-arrow:before {color: black;}#sk-container-id-2 div.sk-toggleable__content {max-height: 0;max-width: 0;overflow: hidden;text-align: left;background-color: #f0f8ff;}#sk-container-id-2 div.sk-toggleable__content pre {margin: 0.2em;color: black;border-radius: 0.25em;background-color: #f0f8ff;}#sk-container-id-2 input.sk-toggleable__control:checked~div.sk-toggleable__content {max-height: 200px;max-width: 100%;overflow: auto;}#sk-container-id-2 input.sk-toggleable__control:checked~label.sk-toggleable__label-arrow:before {content: \"▾\";}#sk-container-id-2 div.sk-estimator input.sk-toggleable__control:checked~label.sk-toggleable__label {background-color: #d4ebff;}#sk-container-id-2 div.sk-label input.sk-toggleable__control:checked~label.sk-toggleable__label {background-color: #d4ebff;}#sk-container-id-2 input.sk-hidden--visually {border: 0;clip: rect(1px 1px 1px 1px);clip: rect(1px, 1px, 1px, 1px);height: 1px;margin: -1px;overflow: hidden;padding: 0;position: absolute;width: 1px;}#sk-container-id-2 div.sk-estimator {font-family: monospace;background-color: #f0f8ff;border: 1px dotted black;border-radius: 0.25em;box-sizing: border-box;margin-bottom: 0.5em;}#sk-container-id-2 div.sk-estimator:hover {background-color: #d4ebff;}#sk-container-id-2 div.sk-parallel-item::after {content: \"\";width: 100%;border-bottom: 1px solid gray;flex-grow: 1;}#sk-container-id-2 div.sk-label:hover label.sk-toggleable__label {background-color: #d4ebff;}#sk-container-id-2 div.sk-serial::before {content: \"\";position: absolute;border-left: 1px solid gray;box-sizing: border-box;top: 0;bottom: 0;left: 50%;z-index: 0;}#sk-container-id-2 div.sk-serial {display: flex;flex-direction: column;align-items: center;background-color: white;padding-right: 0.2em;padding-left: 0.2em;position: relative;}#sk-container-id-2 div.sk-item {position: relative;z-index: 1;}#sk-container-id-2 div.sk-parallel {display: flex;align-items: stretch;justify-content: center;background-color: white;position: relative;}#sk-container-id-2 div.sk-item::before, #sk-container-id-2 div.sk-parallel-item::before {content: \"\";position: absolute;border-left: 1px solid gray;box-sizing: border-box;top: 0;bottom: 0;left: 50%;z-index: -1;}#sk-container-id-2 div.sk-parallel-item {display: flex;flex-direction: column;z-index: 1;position: relative;background-color: white;}#sk-container-id-2 div.sk-parallel-item:first-child::after {align-self: flex-end;width: 50%;}#sk-container-id-2 div.sk-parallel-item:last-child::after {align-self: flex-start;width: 50%;}#sk-container-id-2 div.sk-parallel-item:only-child::after {width: 0;}#sk-container-id-2 div.sk-dashed-wrapped {border: 1px dashed gray;margin: 0 0.4em 0.5em 0.4em;box-sizing: border-box;padding-bottom: 0.4em;background-color: white;}#sk-container-id-2 div.sk-label label {font-family: monospace;font-weight: bold;display: inline-block;line-height: 1.2em;}#sk-container-id-2 div.sk-label-container {text-align: center;}#sk-container-id-2 div.sk-container {/* jupyter's `normalize.less` sets `[hidden] { display: none; }` but bootstrap.min.css set `[hidden] { display: none !important; }` so we also need the `!important` here to be able to override the default hidden behavior on the sphinx rendered scikit-learn.org. See: https://github.com/scikit-learn/scikit-learn/issues/21755 */display: inline-block !important;position: relative;}#sk-container-id-2 div.sk-text-repr-fallback {display: none;}</style><div id=\"sk-container-id-2\" class=\"sk-top-container\"><div class=\"sk-text-repr-fallback\"><pre>LinearRegression()</pre><b>In a Jupyter environment, please rerun this cell to show the HTML representation or trust the notebook. <br />On GitHub, the HTML representation is unable to render, please try loading this page with nbviewer.org.</b></div><div class=\"sk-container\" hidden><div class=\"sk-item\"><div class=\"sk-estimator sk-toggleable\"><input class=\"sk-toggleable__control sk-hidden--visually\" id=\"sk-estimator-id-2\" type=\"checkbox\" checked><label for=\"sk-estimator-id-2\" class=\"sk-toggleable__label sk-toggleable__label-arrow\">LinearRegression</label><div class=\"sk-toggleable__content\"><pre>LinearRegression()</pre></div></div></div></div></div>"
            ],
            "text/plain": [
              "LinearRegression()"
            ]
          },
          "execution_count": 19,
          "metadata": {},
          "output_type": "execute_result"
        }
      ]
    },
    {
      "cell_type": "code",
      "source": [
        "model.coef_"
      ],
      "metadata": {
        "colab": {
          "base_uri": "https://localhost:8080/"
        },
        "id": "Hsy-k6yVq1-X",
        "outputId": "7c519661-0d56-4936-e4e9-610fb3d2b8e6"
      },
      "execution_count": null,
      "outputs": [
        {
          "data": {
            "text/plain": [
              "array([ 7.23382199e+11, -2.50488281e-01, -2.32558310e-01,  7.39953774e-02,\n",
              "        4.68742062e-02,  7.23382199e+11,  6.61604471e-02,  8.58973267e-01,\n",
              "       -7.18488746e-03, -7.03116019e-03,  6.98577387e-03,  1.32957359e-01,\n",
              "        1.50077817e-02, -6.83704171e-03, -3.69616522e-03, -1.62563011e-02,\n",
              "       -2.35725832e-02])"
            ]
          },
          "execution_count": 20,
          "metadata": {},
          "output_type": "execute_result"
        }
      ]
    },
    {
      "cell_type": "code",
      "source": [
        "model.intercept_"
      ],
      "metadata": {
        "colab": {
          "base_uri": "https://localhost:8080/"
        },
        "id": "WeCXQFYlrBOs",
        "outputId": "738c093e-bb55-4964-c8f2-9e42d07c50de"
      },
      "execution_count": null,
      "outputs": [
        {
          "data": {
            "text/plain": [
              "-723382198910.7482"
            ]
          },
          "execution_count": 21,
          "metadata": {},
          "output_type": "execute_result"
        }
      ]
    },
    {
      "cell_type": "code",
      "source": [
        "import matplotlib.pyplot as plt\n",
        "fig = plt.figure()\n",
        "y_hat = model.predict(X_test)\n",
        "plt.scatter(y_hat,y_test)\n",
        "plt.legend()\n",
        "plt.show()"
      ],
      "metadata": {
        "colab": {
          "base_uri": "https://localhost:8080/",
          "height": 468
        },
        "id": "tz2ULLfRbsVt",
        "outputId": "1f4ae590-d04b-4f91-e672-223569f48046"
      },
      "execution_count": null,
      "outputs": [
        {
          "metadata": {
            "tags": null
          },
          "name": "stderr",
          "output_type": "stream",
          "text": [
            "WARNING:matplotlib.legend:No artists with labels found to put in legend.  Note that artists whose label start with an underscore are ignored when legend() is called with no argument.\n"
          ]
        },
        {
          "data": {
            "image/png": "[encoded data removed]",
            "text/plain": [
              "<Figure size 640x480 with 1 Axes>"
            ]
          },
          "metadata": {},
          "output_type": "display_data"
        }
      ]
    },
    {
      "cell_type": "markdown",
      "source": [
        "## Evaluation Metric"
      ],
      "metadata": {
        "id": "YQ-XEYOOrFQc"
      }
    },
    {
      "cell_type": "markdown",
      "source": [
        "\n",
        "<img src='https://drive.google.com/uc?id=1Kedz1sZmqg6W6zpaLDP3TlqBOGpZzE3M' width=800>\n"
      ],
      "metadata": {
        "id": "aDCNxAHKlvve"
      }
    },
    {
      "cell_type": "markdown",
      "source": [
        "\n",
        "<img src='https://drive.google.com/uc?id=1j-5gRhP53HHgsa75KPKE6fVOaluCr_1D' width=800>\n"
      ],
      "metadata": {
        "id": "tTvc_bjhlwGo"
      }
    },
    {
      "cell_type": "markdown",
      "source": [
        "\n",
        "<img src='https://drive.google.com/uc?id=1LmtrH5nVlqk_ZCNN_MsQhC1igtvgKnbO' width=800>\n"
      ],
      "metadata": {
        "id": "-Sd0B10nl3p-"
      }
    },
    {
      "cell_type": "markdown",
      "source": [
        "<img src='https://drive.google.com/uc?id=1IAIlSmmRMGVobD3F0S-aWQvK0OUIjQUr' width=800>\n",
        "\n",
        "\n"
      ],
      "metadata": {
        "id": "ZfxKLjB-mNBq"
      }
    },
    {
      "cell_type": "markdown",
      "source": [
        "<img src='https://drive.google.com/uc?id=15AUqm2RtPKoCqT-luL0dCo3MCGCbDCLG' width=800>\n",
        "\n",
        "\n"
      ],
      "metadata": {
        "id": "UlO-Bm1lmOAs"
      }
    },
    {
      "cell_type": "markdown",
      "source": [
        "<img src='https://drive.google.com/uc?id=1FPQ4JMtOuloHH-pOkhrp8Zj_ISEQGZVI' width=800>"
      ],
      "metadata": {
        "id": "5AD0AXoSmO9n"
      }
    },
    {
      "cell_type": "markdown",
      "source": [
        "<img src='https://drive.google.com/uc?id=12wwCXE2bZTS1JWmyK1kbxYssok38w0R1' width=800>"
      ],
      "metadata": {
        "id": "qe7cjN_Jm5Hx"
      }
    },
    {
      "cell_type": "markdown",
      "source": [
        "**Note:** </br>\n",
        "We will be using the above functions later to understand how Linear Regression works under the hood, </br> and the optimization behind it."
      ],
      "metadata": {
        "id": "2L6OpWZumeWP"
      }
    },
    {
      "cell_type": "markdown",
      "source": [
        "#### What is R2 Score, or the coefficient of determination?\n",
        "\n"
      ],
      "metadata": {
        "id": "4MXwd7XKPh-B"
      }
    },
    {
      "cell_type": "markdown",
      "source": [
        "<img src='https://drive.google.com/uc?id=1Eov4qWaDvsH8c94dux8N_BRtTpUttSS-' width=800>\n"
      ],
      "metadata": {
        "id": "7a4Hg4zPmtYu"
      }
    },
    {
      "cell_type": "markdown",
      "source": [
        "\n",
        "\n",
        "<img src='https://drive.google.com/uc?id=1zNLjxfIjxp9dymK5B4uPOceRqIbCgBFG' width=800>\n"
      ],
      "metadata": {
        "id": "cjLqABE4mrVw"
      }
    },
    {
      "cell_type": "markdown",
      "source": [
        "\n",
        "\n",
        "<img src='https://drive.google.com/uc?id=1oZl0YlksWbt3FvMe_sC_h8RPv1pyf7e2' width=800>"
      ],
      "metadata": {
        "id": "yIRiymZkn71f"
      }
    },
    {
      "cell_type": "markdown",
      "source": [
        "\n",
        "\n",
        "<img src='https://drive.google.com/uc?id=1tODwK1Y_iFVNA9ml14KXSwSGFQsc6BMw' width=800>\n"
      ],
      "metadata": {
        "id": "FPJGsafToAEB"
      }
    },
    {
      "cell_type": "markdown",
      "source": [
        "#### Let's check the performance of our previously trained model on test data.\n",
        "\n",
        "\\\n",
        "LinearRegression's default `.score()` function uses R2 score to evaluate the data."
      ],
      "metadata": {
        "id": "mLpSIVoFRFEa"
      }
    },
    {
      "cell_type": "code",
      "source": [
        "model.score(X_train, y_train)"
      ],
      "metadata": {
        "colab": {
          "base_uri": "https://localhost:8080/"
        },
        "id": "hc0Z5qlW5ySm",
        "outputId": "4f54ac55-94d1-43c6-a994-f15bb0095d86"
      },
      "execution_count": null,
      "outputs": [
        {
          "data": {
            "text/plain": [
              "0.9459004943250285"
            ]
          },
          "execution_count": 23,
          "metadata": {},
          "output_type": "execute_result"
        }
      ]
    },
    {
      "cell_type": "code",
      "source": [
        "model.score(X_test, y_test)"
      ],
      "metadata": {
        "colab": {
          "base_uri": "https://localhost:8080/"
        },
        "id": "J7O_0x1RSper",
        "outputId": "64d95ef5-6f9b-4081-a195-0f66b6f34c8d"
      },
      "execution_count": null,
      "outputs": [
        {
          "data": {
            "text/plain": [
              "0.945987722055055"
            ]
          },
          "execution_count": 24,
          "metadata": {},
          "output_type": "execute_result"
        }
      ]
    }
  ]
}